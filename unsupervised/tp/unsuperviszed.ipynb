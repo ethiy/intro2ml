{
 "cells": [
  {
   "cell_type": "markdown",
   "metadata": {},
   "source": [
    "# Apprentisage non-supervisé:\n",
    "\n",
    "Le but de ce TP est d'implémenter et tester les algorithmes vues en classes.\n",
    "\n",
    "## Clustering hiérarchique:\n",
    "\n",
    "On commence par implémenter le premier algorithme. le bout de code suivant contient des fonctions qui vont être utilisées dans le reste du TP.\n",
    "\n",
    "1. \n",
    "Exécuter la cellule suivante:"
   ]
  },
  {
   "cell_type": "code",
   "execution_count": 1,
   "metadata": {},
   "outputs": [],
   "source": [
    "%matplotlib inline\n",
    "\n",
    "import matplotlib.pyplot as plt\n",
    "import numpy as np\n",
    "\n",
    "\n",
    "def plot_points(points, ax, color):\n",
    "    \"\"\"\n",
    "        Plots points.\n",
    "        :param points: the points to plot\n",
    "        :type points: iterable\n",
    "        :param ax: the axis to plot in\n",
    "        :type ax: matplotlib.axis\n",
    "        :param color: the plotted points color\n",
    "        :type color: str\n",
    "    \"\"\"\n",
    "    ax.scatter(points[:, 0], points[:, 1], c=color)\n",
    "\n",
    "    \n",
    "def plot_dataset(X, Y, ax, **parameters):\n",
    "    \"\"\"\n",
    "        Plots the dataset.\n",
    "        :param X: the points to plot\n",
    "        :type X: np.array\n",
    "        :param Y: the points classes\n",
    "        :type Y: np.array\n",
    "        :param ax: the axis to plot in\n",
    "        :type ax: matplotlib.axis\n",
    "        :param colors: the plotted points colors depending on the class\n",
    "        :type colors: iterable\n",
    "    \"\"\"\n",
    "    for x, color in zip([X[Y==y] for y in set(Y)], parameters['colors']):\n",
    "        plot_points(x, ax, color)\n"
   ]
  },
  {
   "cell_type": "markdown",
   "metadata": {},
   "source": [
    "On génère un jeu de donner simple pour tester les algorithmes à implémenter de la façon suivante."
   ]
  },
  {
   "cell_type": "code",
   "execution_count": 2,
   "metadata": {
    "scrolled": true
   },
   "outputs": [
    {
     "data": {
      "image/png": "[encoded data removed]",
      "text/plain": [
       "<matplotlib.figure.Figure at 0x7fc66cdb0710>"
      ]
     },
     "metadata": {},
     "output_type": "display_data"
    }
   ],
   "source": [
    "import sklearn.datasets\n",
    "\n",
    "X, Y = sklearn.datasets.make_blobs(n_samples=100, centers=3, random_state=0, cluster_std=0.60)\n",
    "f, ax = plt.subplots(1, 1)\n",
    "plot_dataset(X, Y, ax, colors=['r', 'b', 'g'])"
   ]
  },
  {
   "cell_type": "markdown",
   "metadata": {},
   "source": [
    "On présente, ci-dessous, les fonctions à utiliser pour comparer les ensembles."
   ]
  },
  {
   "cell_type": "code",
   "execution_count": 3,
   "metadata": {},
   "outputs": [
    {
     "name": "stdout",
     "output_type": "stream",
     "text": [
      "Example:\n",
      "A =  {(1.6599104892724754, 3.5628918352361985), (1.1641106995370358, 3.791329883867355), (1.4949317978621983, 3.858488315204525), (0.9593607415433021, 4.56078644976664), (0.4883823093198226, 3.268017766049384), (0.44359862996842747, 3.1153094465140336), (0.34713829950623953, 3.451776565141005), (0.6697869960051712, 3.5954080169749427), (0.7438739881017237, 4.122405677103188), (1.7144444869831275, 5.025215236719037), (1.8959376071615694, 5.185402589388561), (1.0626962212430218, 5.176351431626175), (-0.5555238109539522, 4.695958484712606), (0.00793137001172417, 4.1761431593200085), (0.595676822337917, 4.086142627856107), (0.4389901418302897, 4.535928826163947), (0.7675227889508035, 4.397596708910778), (0.670478769495503, 4.0409427464816785), (0.43189105991654975, 4.334954564926074), (0.9143387674703604, 4.550146428611414), (0.5727938098809244, 4.088055430524065), (0.22459286251653932, 4.770281540947536), (1.2425880181937505, 4.50399192387295), (1.4328927136346912, 4.376792337344087), (1.0037251889273626, 4.19147701743289), (1.4137244158530171, 4.381177073902836), (1.8727175224410586, 4.180692369188909), (1.0692385339646449, 4.530684839209695), (1.5463231290618487, 4.212973002469771), (-0.04749203582851247, 5.474252564587464), (2.3381228529390596, 3.431167922689131), (1.0827257638987469, 4.0627187657234325), (1.0161804119763957, 4.485270466092259), (-0.0018489296331316574, 4.581456680763854)}\n",
      "B =  {(3.1851579396666305, 0.08900822325246904), (2.0615675338653703, 1.969185956281438), (2.2342104259565114, 1.693495197950155), (2.180232508278994, 1.4836470818281646), (2.4586443756403393, 1.1421407616826031), (2.13141477705505, 1.138857278004758), (2.269087359737519, 1.3216075608531057), (2.423715143640526, 1.4509876628778529), (1.5385321104000564, 2.0437026317973572), (1.3513934783643822, 2.063836371327512), (1.7941753903998956, 2.007221897025542), (2.948218837710238, 2.0351971655562866), (1.5933178767656881, 1.2212131747130273), (1.356177616962864, 1.438159552110449), (1.6737598744055493, 1.3035236369058367), (1.4128159485265526, 1.5303346960966189), (1.2929765223414378, 1.4793016848327434), (1.81336135324897, 1.6311307021673933), (1.8944654988620497, 1.379137497415774), (1.6385268055940587, 0.8078829357413344), (1.6506679250384524, 0.9167619949025475), (1.5327892319237488, 0.5503538610792875), (1.8070961329770294, 0.4491907730734822), (1.8683360021564543, 0.9313628652757842), (3.1758028976888197, 1.441290454903168), (3.2090327373211087, 1.7859725347985913), (2.7625352641286685, 0.7897087584505262), (2.3346649852711536, -0.02408255182839736), (2.4012220114018423, 0.7726844065911399), (2.6236187020971267, 0.8046576040834363), (2.2966725061394073, 0.4867776053737489), (2.2811228401262555, 0.2380231855874202), (2.292871549029865, 0.24182675469963344)}\n",
      "\n",
      "On utilise la distance Euclidienne:  <function <lambda> at 0x7fc62fbf3d90>\n",
      "La distance minimale entre A et B est: 1.3891317844669866\n",
      "La distance maximale entre A et B est: 6.280993749395818\n",
      "La distance moyenne entre A et B est: 3.4112305893903145\n"
     ]
    }
   ],
   "source": [
    "def distances(A, B, metric):\n",
    "    \"\"\"\n",
    "        Compute the list of all distances between elements from sets A and B based on the `metric' distance.\n",
    "        :param A: the left hand operand\n",
    "        :type A: set\n",
    "        :param B: the right hand operand\n",
    "        :type B: set\n",
    "        :param metric: the distance to be used\n",
    "        :type metric: callable\n",
    "        :return: the distance\n",
    "        :rtype: list\n",
    "    \"\"\"\n",
    "    return [\n",
    "            metric(a, b)\n",
    "            for a in A\n",
    "            for b in B\n",
    "        ]\n",
    "    \n",
    "\n",
    "def minimum_metric(metric):\n",
    "    \"\"\"\n",
    "        Compute the minimum distance between sets A and B based on the `metric' distance.\n",
    "        :param metric: the distance to be used\n",
    "        :type metric: callable\n",
    "        :return: the distance\n",
    "        :rtype: callable\n",
    "    \"\"\"\n",
    "    return lambda A, B: min(distances(A, B, metric))\n",
    "\n",
    "\n",
    "def maximum_metric(metric):\n",
    "    \"\"\"\n",
    "        Compute the maximum distance between sets A and B based on the `metric' distance.\n",
    "        :param metric: the distance to be used\n",
    "        :type metric: callable\n",
    "        :return: the distance\n",
    "        :rtype: callable\n",
    "    \"\"\"\n",
    "    return lambda A, B: max(distances(A, B, metric))\n",
    "\n",
    "\n",
    "def mean_metric(metric):\n",
    "    \"\"\"\n",
    "        Compute the mean distance between sets A and B based on the `metric' distance.\n",
    "        :param metric: the distance to be used\n",
    "        :type metric: callable\n",
    "        :return: the distance\n",
    "        :rtype: callable\n",
    "    \"\"\"\n",
    "    return lambda A, B: sum(distances(A, B, metric)) / (len(A) * len(B))\n",
    "\n",
    "\n",
    "def array2tuples(feats):\n",
    "    \"\"\"\n",
    "        Transform an attributes matrix to a list of tuples which is hashable. This may be handy when it is necessary to have hashable data.\n",
    "        :param feats: the feature matrix where lines are instances and columns are dimensions\n",
    "        :type feats: np.array\n",
    "        :return: the list of tuple representation.\n",
    "        :rtype: list\n",
    "    \"\"\"\n",
    "    return [tuple(x) for x in feats]\n",
    "\n",
    "\n",
    "def tuples2array(tuples):\n",
    "    \"\"\"\n",
    "        Transform a list of tuples to an attributes matrix.\n",
    "        :param tuples: the list of tuple representations\n",
    "        :type tuples: np.array\n",
    "        :return: feature matrix where lines are instances and columns are dimensions\n",
    "        :rtype: np.array\n",
    "    \"\"\"\n",
    "    return np.array([list(x) for x in tuples])\n",
    "\n",
    "\n",
    "\n",
    "print('Example:')\n",
    "A = set(array2tuples(X[Y==0]))\n",
    "print('A = ', A)\n",
    "B = set(array2tuples(X[Y==1]))\n",
    "print('B = ', B)\n",
    "euclidian = lambda x, y: np.linalg.norm(np.array(x) - np.array(y))\n",
    "print('\\nOn utilise la distance Euclidienne: ', euclidian)\n",
    "print('La distance minimale entre A et B est:', minimum_metric(euclidian)(A, B))\n",
    "print('La distance maximale entre A et B est:', maximum_metric(euclidian)(A, B))\n",
    "print('La distance moyenne entre A et B est:', mean_metric(euclidian)(A, B))"
   ]
  },
  {
   "cell_type": "markdown",
   "metadata": {},
   "source": [
    "2. \n",
    "Implémenter l'algorithme de clustering hiérarchique ascendant en complétant les fonctions présenter ci-dessous."
   ]
  },
  {
   "cell_type": "code",
   "execution_count": 10,
   "metadata": {},
   "outputs": [
    {
     "data": {
      "image/png": "[encoded data removed]",
      "text/plain": [
       "<matplotlib.figure.Figure at 0x7fc62f415fd0>"
      ]
     },
     "metadata": {},
     "output_type": "display_data"
    }
   ],
   "source": [
    "import functools, operator\n",
    "\n",
    "\n",
    "def minimal_couples(P, group_metric):\n",
    "    \"\"\"\n",
    "        Find the partition index couples that minimizes the `group_metric' over all couples from the partition S.\n",
    "        :param P: the list of all sets forming the features partition.\n",
    "        :type P: list\n",
    "        :param group_metric: the metric to compare partitions\n",
    "        :type group_metric: callable\n",
    "        :return: the list of couples (s, l) minimizing (s, l) --> group_metric(P[s], P[lP]).\n",
    "        :rtype: list\n",
    "    \"\"\"\n",
    "    # Hint: Use built-in python sort function `sorted' on a list of tuples containing the couple (s, l) and the value group_metric(P[s], P[l])\n",
    "    return \n",
    "\n",
    "\n",
    "def prune_minimizers(couples):\n",
    "    \"\"\"\n",
    "        Prune couples into a list of partition indexes to group.\n",
    "        :param group_metric: the metric to compare partitions\n",
    "        :type group_metric: callable\n",
    "        :return: the list of couples (s, l) minimizing (s, l) --> group_metric(S[s], S[l]).\n",
    "        :rtype: list\n",
    "    \"\"\"\n",
    "    # Hint: Use sets for unicity\n",
    "    return \n",
    "\n",
    "\n",
    "def update_clustering(indexes_to_cluster, P):\n",
    "    \"\"\"\n",
    "        Updates the partition based on the indexes of partitions to cluster.\n",
    "        :param indexes_to_cluster: list of indexes of partition to cluster\n",
    "        :type indexes_to_cluster: list\n",
    "        :param P: the list of all sets forming the features partition.\n",
    "        :type P: list\n",
    "        :return: the new partition\n",
    "        :rtype: list\n",
    "    \"\"\"\n",
    "    # Group sets from partition `P' with indexes `indexes_to_cluster'\n",
    "    # Keep the rest unchanged\n",
    "    return P\n",
    "    \n",
    "\n",
    "def hierarchical_clustering(X, group_metric=euclidian, T=100, K=3):\n",
    "    \"\"\"\n",
    "        The hierarchical clustering algorithm.\n",
    "        :param X: the feature matrix\n",
    "        :type X: np.array\n",
    "        :param group_metric: the metric to compare partitions\n",
    "        :type group_metric: callable\n",
    "        :param T: maximal iterations\n",
    "        :type T: int\n",
    "        :param K: wanted number of clusters\n",
    "        :type K: int\n",
    "        :return: The list of partitions per iteration\n",
    "        :type: list\n",
    "    \"\"\"\n",
    "    initial_partition = [set([x]) for x in array2tuples(X)]\n",
    "    cl = len(initial_partition)\n",
    "    S = [None] * (T + 1) # Do not append: it is very slow\n",
    "    S[0] = initial_partition\n",
    "    t = 0\n",
    "    while t < T and cl > K:\n",
    "        t = t + 1\n",
    "        couples = minimal_couples(S[t-1], group_metric) # Minimal couples\n",
    "        indexes_to_cluster = prune_minimizers(couples) # Minimal indexes grouped\n",
    "        S[t] = update_clustering(indexes_to_cluster, S[t-1])\n",
    "    S = [s for s in S if S is not None] # Clear None values from Partions list\n",
    "    return S\n",
    "\n",
    "S = hierarchical_clustering(X)\n",
    "clusters = np.array(\n",
    "        functools.reduce(\n",
    "        operator.add,\n",
    "        [[cls] * len(set_cls) for (cls, set_cls) in enumerate(S[-1])]\n",
    "    )\n",
    ")\n",
    "H = np.concatenate([tuples2array(x) for x in S[-1]])\n",
    "f, ax = plt.subplots(1, 1)\n",
    "cmap = plt.cm.get_cmap('hsv', len(clusters))\n",
    "plot_dataset(H, clusters, ax, colors=[cmap(clr) for clr in range(len(clusters))])"
   ]
  },
  {
   "cell_type": "code",
   "execution_count": null,
   "metadata": {},
   "outputs": [],
   "source": []
  }
 ],
 "metadata": {
  "kernelspec": {
   "display_name": "Python 3",
   "language": "python",
   "name": "python3"
  },
  "language_info": {
   "codemirror_mode": {
    "name": "ipython",
    "version": 3
   },
   "file_extension": ".py",
   "mimetype": "text/x-python",
   "name": "python",
   "nbconvert_exporter": "python",
   "pygments_lexer": "ipython3",
   "version": "3.5.2"
  }
 },
 "nbformat": 4,
 "nbformat_minor": 2
}
